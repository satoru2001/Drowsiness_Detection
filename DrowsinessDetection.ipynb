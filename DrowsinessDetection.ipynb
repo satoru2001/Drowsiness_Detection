{
 "cells": [
  {
   "cell_type": "markdown",
   "metadata": {},
   "source": [
    "<h1 style='text-align:center;color:Blue'> Drowsiness Detection </h1>"
   ]
  },
  {
   "cell_type": "markdown",
   "metadata": {},
   "source": [
    "## Import Libraries"
   ]
  },
  {
   "cell_type": "code",
   "execution_count": 17,
   "metadata": {},
   "outputs": [],
   "source": [
    "import imutils\n",
    "import cv2\n",
    "import dlib\n",
    "import time\n",
    "import playsound\n",
    "import os\n",
    "import numpy as np\n",
    "from imutils import face_utils\n",
    "from scipy.spatial import distance as dist\n",
    "from threading import Thread"
   ]
  },
  {
   "cell_type": "markdown",
   "metadata": {},
   "source": [
    "## Defining Face Detector and Localization points predictor"
   ]
  },
  {
   "cell_type": "code",
   "execution_count": 18,
   "metadata": {},
   "outputs": [],
   "source": [
    "detector = dlib.get_frontal_face_detector()\n",
    "predictor = dlib.shape_predictor('shape_predictor_68_face_landmarks.dat')"
   ]
  },
  {
   "cell_type": "markdown",
   "metadata": {},
   "source": [
    "## EAR Function [Details](http://vision.fe.uni-lj.si/cvww2016/proceedings/papers/05.pdf)"
   ]
  },
  {
   "cell_type": "code",
   "execution_count": 32,
   "metadata": {},
   "outputs": [],
   "source": [
    "def play_sound():\n",
    "    file = 'music2.mp3'\n",
    "    os.system(\"mpg123 \" + file)\n",
    "def eye_aspect_ratio(eye):\n",
    "    A = dist.euclidean(eye[1],eye[5])\n",
    "    B = dist.euclidean(eye[2],eye[4])\n",
    "    C = dist.euclidean(eye[0],eye[3])\n",
    "    ear = (A+B)/(2.0*C)\n",
    "    return ear"
   ]
  },
  {
   "cell_type": "markdown",
   "metadata": {},
   "source": [
    "## Defining Threshold and Max Frames"
   ]
  },
  {
   "cell_type": "code",
   "execution_count": 33,
   "metadata": {},
   "outputs": [],
   "source": [
    "EYE_AR_THRESHOLD = 0.3\n",
    "EYE_MAX_FRAMES = 48\n",
    "Counter = 0\n",
    "Total = 0"
   ]
  },
  {
   "cell_type": "markdown",
   "metadata": {},
   "source": [
    "## Start image Capture"
   ]
  },
  {
   "cell_type": "code",
   "execution_count": 34,
   "metadata": {},
   "outputs": [],
   "source": [
    "vid = cv2.VideoCapture(0)\n",
    "time.sleep(1.0)#for camera to become ready\n",
    "(lstart,lend) = face_utils.FACIAL_LANDMARKS_IDXS[\"left_eye\"]\n",
    "(rstart,rend) = face_utils.FACIAL_LANDMARKS_IDXS[\"right_eye\"]"
   ]
  },
  {
   "cell_type": "markdown",
   "metadata": {},
   "source": [
    "## Info\n",
    "- Loop through every frame\n",
    "- Find faces\n",
    "- Locate landmarks\n",
    "- Saperate Lefteye,Righteye landmarks\n",
    "- Caluculate EAR\n",
    "- Check if it's less than threshold and is been for threshold frames\n",
    "- Trigger Alarm"
   ]
  },
  {
   "cell_type": "code",
   "execution_count": 35,
   "metadata": {
    "scrolled": false
   },
   "outputs": [],
   "source": [
    "AlarmOn=False\n",
    "while True:\n",
    "    _,frame = vid.read()\n",
    "    if(_):\n",
    "        frame = imutils.resize(frame,width=500)\n",
    "        gray = cv2.cvtColor(frame,cv2.COLOR_BGR2GRAY)\n",
    "        rects = detector(gray,0)\n",
    "        for rect in rects:\n",
    "            shape = predictor(gray, rect)\n",
    "            shape = face_utils.shape_to_np(shape)\n",
    "\n",
    "            leftEye = shape[lstart:lend]\n",
    "            rightEye = shape[rstart:rend]\n",
    "\n",
    "            leftEAR = eye_aspect_ratio(leftEye)\n",
    "            rightEAR = eye_aspect_ratio(rightEye)\n",
    "            ear = (leftEAR+rightEAR)/2.0\n",
    "\n",
    "            leftHull = cv2.convexHull(leftEye)\n",
    "            rightHull = cv2.convexHull(rightEye)\n",
    "\n",
    "            cv2.drawContours(frame,[leftHull],-1,(0,0,255),1)\n",
    "            cv2.drawContours(frame,[rightHull],-1,(0,0,255),1)\n",
    "\n",
    "            if ear < EYE_AR_THRESHOLD:\n",
    "                Counter+=1\n",
    "\n",
    "                if Counter >= EYE_MAX_FRAMES:\n",
    "                    if not AlarmOn:\n",
    "                        AlarmOn = True\n",
    "                        t = Thread(target=play_sound)\n",
    "                        t.deamon = True\n",
    "                        t.start()\n",
    "                        #Put your audio here\n",
    "                    cv2.putText(frame,'Drowsiness Alert',(10,30),cv2.FONT_HERSHEY_SIMPLEX, 0.7, (0, 0, 255), 2)\n",
    "\n",
    "            else:\n",
    "                Counter = 0\n",
    "                AlarmOn = False\n",
    "            cv2.putText(frame,'{:.1f}'.format(ear),(300,30),cv2.FONT_HERSHEY_SIMPLEX, 1, (0, 255, 0), 2)\n",
    "        cv2.imshow(\"Frame\", frame)\n",
    "        key = cv2.waitKey(1) & 0xFF\n",
    "        if key == ord(\"q\"):\n",
    "            break\n",
    "        \n",
    "vid.release()\n",
    "cv2.destroyAllWindows()"
   ]
  }
 ],
 "metadata": {
  "kernelspec": {
   "display_name": "Python 3",
   "language": "python",
   "name": "python3"
  },
  "language_info": {
   "codemirror_mode": {
    "name": "ipython",
    "version": 3
   },
   "file_extension": ".py",
   "mimetype": "text/x-python",
   "name": "python",
   "nbconvert_exporter": "python",
   "pygments_lexer": "ipython3",
   "version": "3.8.3"
  }
 },
 "nbformat": 4,
 "nbformat_minor": 4
}
